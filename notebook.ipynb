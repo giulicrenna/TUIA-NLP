{
  "cells": [
    {
      "cell_type": "code",
      "execution_count": 91,
      "metadata": {
        "id": "GnNbUSBG7j6_",
        "outputId": "c9f7338a-6bc1-4ad9-b39d-6f5748f76984",
        "colab": {
          "base_uri": "https://localhost:8080/"
        }
      },
      "outputs": [
        {
          "output_type": "stream",
          "name": "stdout",
          "text": [
            "Requirement already satisfied: requests in /usr/local/lib/python3.10/dist-packages (2.32.3)\n",
            "Requirement already satisfied: beautifulsoup4 in /usr/local/lib/python3.10/dist-packages (4.12.3)\n",
            "Requirement already satisfied: chromadb in /usr/local/lib/python3.10/dist-packages (0.5.23)\n",
            "Requirement already satisfied: PyPDF2 in /usr/local/lib/python3.10/dist-packages (3.0.1)\n",
            "Requirement already satisfied: sentence-transformers in /usr/local/lib/python3.10/dist-packages (3.2.1)\n",
            "Requirement already satisfied: transformers in /usr/local/lib/python3.10/dist-packages (4.46.3)\n",
            "Requirement already satisfied: huggingface_hub in /usr/local/lib/python3.10/dist-packages (0.26.3)\n",
            "Requirement already satisfied: llama-cpp-python in /usr/local/lib/python3.10/dist-packages (0.1.78)\n",
            "Requirement already satisfied: jinja2 in /usr/local/lib/python3.10/dist-packages (3.1.4)\n",
            "Requirement already satisfied: python-decouple in /usr/local/lib/python3.10/dist-packages (3.8)\n",
            "Collecting openai==1.56.1\n",
            "  Downloading openai-1.56.1-py3-none-any.whl.metadata (24 kB)\n",
            "Collecting httpx==0.27.2\n",
            "  Downloading httpx-0.27.2-py3-none-any.whl.metadata (7.1 kB)\n",
            "Requirement already satisfied: anyio<5,>=3.5.0 in /usr/local/lib/python3.10/dist-packages (from openai==1.56.1) (3.7.1)\n",
            "Requirement already satisfied: distro<2,>=1.7.0 in /usr/local/lib/python3.10/dist-packages (from openai==1.56.1) (1.9.0)\n",
            "Requirement already satisfied: jiter<1,>=0.4.0 in /usr/local/lib/python3.10/dist-packages (from openai==1.56.1) (0.8.0)\n",
            "Requirement already satisfied: pydantic<3,>=1.9.0 in /usr/local/lib/python3.10/dist-packages (from openai==1.56.1) (2.10.3)\n",
            "Requirement already satisfied: sniffio in /usr/local/lib/python3.10/dist-packages (from openai==1.56.1) (1.3.1)\n",
            "Requirement already satisfied: tqdm>4 in /usr/local/lib/python3.10/dist-packages (from openai==1.56.1) (4.66.6)\n",
            "Requirement already satisfied: typing-extensions<5,>=4.11 in /usr/local/lib/python3.10/dist-packages (from openai==1.56.1) (4.12.2)\n",
            "Requirement already satisfied: certifi in /usr/local/lib/python3.10/dist-packages (from httpx==0.27.2) (2024.8.30)\n",
            "Requirement already satisfied: httpcore==1.* in /usr/local/lib/python3.10/dist-packages (from httpx==0.27.2) (1.0.7)\n",
            "Requirement already satisfied: idna in /usr/local/lib/python3.10/dist-packages (from httpx==0.27.2) (3.10)\n",
            "Requirement already satisfied: h11<0.15,>=0.13 in /usr/local/lib/python3.10/dist-packages (from httpcore==1.*->httpx==0.27.2) (0.14.0)\n",
            "Requirement already satisfied: charset-normalizer<4,>=2 in /usr/local/lib/python3.10/dist-packages (from requests) (3.4.0)\n",
            "Requirement already satisfied: urllib3<3,>=1.21.1 in /usr/local/lib/python3.10/dist-packages (from requests) (2.2.3)\n",
            "Requirement already satisfied: soupsieve>1.2 in /usr/local/lib/python3.10/dist-packages (from beautifulsoup4) (2.6)\n",
            "Requirement already satisfied: build>=1.0.3 in /usr/local/lib/python3.10/dist-packages (from chromadb) (1.2.2.post1)\n",
            "Requirement already satisfied: chroma-hnswlib==0.7.6 in /usr/local/lib/python3.10/dist-packages (from chromadb) (0.7.6)\n",
            "Requirement already satisfied: fastapi>=0.95.2 in /usr/local/lib/python3.10/dist-packages (from chromadb) (0.115.6)\n",
            "Requirement already satisfied: uvicorn>=0.18.3 in /usr/local/lib/python3.10/dist-packages (from uvicorn[standard]>=0.18.3->chromadb) (0.32.1)\n",
            "Requirement already satisfied: numpy>=1.22.5 in /usr/local/lib/python3.10/dist-packages (from chromadb) (1.23.4)\n",
            "Requirement already satisfied: posthog>=2.4.0 in /usr/local/lib/python3.10/dist-packages (from chromadb) (3.7.4)\n",
            "Requirement already satisfied: onnxruntime>=1.14.1 in /usr/local/lib/python3.10/dist-packages (from chromadb) (1.20.1)\n",
            "Requirement already satisfied: opentelemetry-api>=1.2.0 in /usr/local/lib/python3.10/dist-packages (from chromadb) (1.28.2)\n",
            "Requirement already satisfied: opentelemetry-exporter-otlp-proto-grpc>=1.2.0 in /usr/local/lib/python3.10/dist-packages (from chromadb) (1.28.2)\n",
            "Requirement already satisfied: opentelemetry-instrumentation-fastapi>=0.41b0 in /usr/local/lib/python3.10/dist-packages (from chromadb) (0.49b2)\n",
            "Requirement already satisfied: opentelemetry-sdk>=1.2.0 in /usr/local/lib/python3.10/dist-packages (from chromadb) (1.28.2)\n",
            "Requirement already satisfied: tokenizers<=0.20.3,>=0.13.2 in /usr/local/lib/python3.10/dist-packages (from chromadb) (0.20.3)\n",
            "Requirement already satisfied: pypika>=0.48.9 in /usr/local/lib/python3.10/dist-packages (from chromadb) (0.48.9)\n",
            "Requirement already satisfied: overrides>=7.3.1 in /usr/local/lib/python3.10/dist-packages (from chromadb) (7.7.0)\n",
            "Requirement already satisfied: importlib-resources in /usr/local/lib/python3.10/dist-packages (from chromadb) (6.4.5)\n",
            "Requirement already satisfied: grpcio>=1.58.0 in /usr/local/lib/python3.10/dist-packages (from chromadb) (1.68.1)\n",
            "Requirement already satisfied: bcrypt>=4.0.1 in /usr/local/lib/python3.10/dist-packages (from chromadb) (4.2.1)\n",
            "Requirement already satisfied: typer>=0.9.0 in /usr/local/lib/python3.10/dist-packages (from chromadb) (0.15.0)\n",
            "Requirement already satisfied: kubernetes>=28.1.0 in /usr/local/lib/python3.10/dist-packages (from chromadb) (31.0.0)\n",
            "Requirement already satisfied: tenacity>=8.2.3 in /usr/local/lib/python3.10/dist-packages (from chromadb) (9.0.0)\n",
            "Requirement already satisfied: PyYAML>=6.0.0 in /usr/local/lib/python3.10/dist-packages (from chromadb) (6.0.2)\n",
            "Requirement already satisfied: mmh3>=4.0.1 in /usr/local/lib/python3.10/dist-packages (from chromadb) (5.0.1)\n",
            "Requirement already satisfied: orjson>=3.9.12 in /usr/local/lib/python3.10/dist-packages (from chromadb) (3.10.12)\n",
            "Requirement already satisfied: rich>=10.11.0 in /usr/local/lib/python3.10/dist-packages (from chromadb) (13.9.4)\n",
            "Requirement already satisfied: torch>=1.11.0 in /usr/local/lib/python3.10/dist-packages (from sentence-transformers) (2.5.1+cu121)\n",
            "Requirement already satisfied: scikit-learn in /usr/local/lib/python3.10/dist-packages (from sentence-transformers) (1.5.2)\n",
            "Requirement already satisfied: scipy in /usr/local/lib/python3.10/dist-packages (from sentence-transformers) (1.13.1)\n",
            "Requirement already satisfied: Pillow in /usr/local/lib/python3.10/dist-packages (from sentence-transformers) (11.0.0)\n",
            "Requirement already satisfied: filelock in /usr/local/lib/python3.10/dist-packages (from transformers) (3.16.1)\n",
            "Requirement already satisfied: packaging>=20.0 in /usr/local/lib/python3.10/dist-packages (from transformers) (24.2)\n",
            "Requirement already satisfied: regex!=2019.12.17 in /usr/local/lib/python3.10/dist-packages (from transformers) (2024.9.11)\n",
            "Requirement already satisfied: safetensors>=0.4.1 in /usr/local/lib/python3.10/dist-packages (from transformers) (0.4.5)\n",
            "Requirement already satisfied: fsspec>=2023.5.0 in /usr/local/lib/python3.10/dist-packages (from huggingface_hub) (2024.9.0)\n",
            "Requirement already satisfied: diskcache>=5.6.1 in /usr/local/lib/python3.10/dist-packages (from llama-cpp-python) (5.6.3)\n",
            "Requirement already satisfied: MarkupSafe>=2.0 in /usr/local/lib/python3.10/dist-packages (from jinja2) (3.0.2)\n",
            "Requirement already satisfied: exceptiongroup in /usr/local/lib/python3.10/dist-packages (from anyio<5,>=3.5.0->openai==1.56.1) (1.2.2)\n",
            "Requirement already satisfied: pyproject_hooks in /usr/local/lib/python3.10/dist-packages (from build>=1.0.3->chromadb) (1.2.0)\n",
            "Requirement already satisfied: tomli>=1.1.0 in /usr/local/lib/python3.10/dist-packages (from build>=1.0.3->chromadb) (2.2.1)\n",
            "Requirement already satisfied: starlette<0.42.0,>=0.40.0 in /usr/local/lib/python3.10/dist-packages (from fastapi>=0.95.2->chromadb) (0.41.3)\n",
            "Requirement already satisfied: six>=1.9.0 in /usr/local/lib/python3.10/dist-packages (from kubernetes>=28.1.0->chromadb) (1.16.0)\n",
            "Requirement already satisfied: python-dateutil>=2.5.3 in /usr/local/lib/python3.10/dist-packages (from kubernetes>=28.1.0->chromadb) (2.8.2)\n",
            "Requirement already satisfied: google-auth>=1.0.1 in /usr/local/lib/python3.10/dist-packages (from kubernetes>=28.1.0->chromadb) (2.27.0)\n",
            "Requirement already satisfied: websocket-client!=0.40.0,!=0.41.*,!=0.42.*,>=0.32.0 in /usr/local/lib/python3.10/dist-packages (from kubernetes>=28.1.0->chromadb) (1.8.0)\n",
            "Requirement already satisfied: requests-oauthlib in /usr/local/lib/python3.10/dist-packages (from kubernetes>=28.1.0->chromadb) (1.3.1)\n",
            "Requirement already satisfied: oauthlib>=3.2.2 in /usr/local/lib/python3.10/dist-packages (from kubernetes>=28.1.0->chromadb) (3.2.2)\n",
            "Requirement already satisfied: durationpy>=0.7 in /usr/local/lib/python3.10/dist-packages (from kubernetes>=28.1.0->chromadb) (0.9)\n",
            "Requirement already satisfied: coloredlogs in /usr/local/lib/python3.10/dist-packages (from onnxruntime>=1.14.1->chromadb) (15.0.1)\n",
            "Requirement already satisfied: flatbuffers in /usr/local/lib/python3.10/dist-packages (from onnxruntime>=1.14.1->chromadb) (24.3.25)\n",
            "Requirement already satisfied: protobuf in /usr/local/lib/python3.10/dist-packages (from onnxruntime>=1.14.1->chromadb) (5.29.1)\n",
            "Requirement already satisfied: sympy in /usr/local/lib/python3.10/dist-packages (from onnxruntime>=1.14.1->chromadb) (1.13.1)\n",
            "Requirement already satisfied: deprecated>=1.2.6 in /usr/local/lib/python3.10/dist-packages (from opentelemetry-api>=1.2.0->chromadb) (1.2.15)\n",
            "Requirement already satisfied: importlib-metadata<=8.5.0,>=6.0 in /usr/local/lib/python3.10/dist-packages (from opentelemetry-api>=1.2.0->chromadb) (8.5.0)\n",
            "Requirement already satisfied: googleapis-common-protos~=1.52 in /usr/local/lib/python3.10/dist-packages (from opentelemetry-exporter-otlp-proto-grpc>=1.2.0->chromadb) (1.66.0)\n",
            "Requirement already satisfied: opentelemetry-exporter-otlp-proto-common==1.28.2 in /usr/local/lib/python3.10/dist-packages (from opentelemetry-exporter-otlp-proto-grpc>=1.2.0->chromadb) (1.28.2)\n",
            "Requirement already satisfied: opentelemetry-proto==1.28.2 in /usr/local/lib/python3.10/dist-packages (from opentelemetry-exporter-otlp-proto-grpc>=1.2.0->chromadb) (1.28.2)\n",
            "Requirement already satisfied: opentelemetry-instrumentation-asgi==0.49b2 in /usr/local/lib/python3.10/dist-packages (from opentelemetry-instrumentation-fastapi>=0.41b0->chromadb) (0.49b2)\n",
            "Requirement already satisfied: opentelemetry-instrumentation==0.49b2 in /usr/local/lib/python3.10/dist-packages (from opentelemetry-instrumentation-fastapi>=0.41b0->chromadb) (0.49b2)\n",
            "Requirement already satisfied: opentelemetry-semantic-conventions==0.49b2 in /usr/local/lib/python3.10/dist-packages (from opentelemetry-instrumentation-fastapi>=0.41b0->chromadb) (0.49b2)\n",
            "Requirement already satisfied: opentelemetry-util-http==0.49b2 in /usr/local/lib/python3.10/dist-packages (from opentelemetry-instrumentation-fastapi>=0.41b0->chromadb) (0.49b2)\n",
            "Requirement already satisfied: wrapt<2.0.0,>=1.0.0 in /usr/local/lib/python3.10/dist-packages (from opentelemetry-instrumentation==0.49b2->opentelemetry-instrumentation-fastapi>=0.41b0->chromadb) (1.17.0)\n",
            "Requirement already satisfied: asgiref~=3.0 in /usr/local/lib/python3.10/dist-packages (from opentelemetry-instrumentation-asgi==0.49b2->opentelemetry-instrumentation-fastapi>=0.41b0->chromadb) (3.8.1)\n",
            "Requirement already satisfied: monotonic>=1.5 in /usr/local/lib/python3.10/dist-packages (from posthog>=2.4.0->chromadb) (1.6)\n",
            "Requirement already satisfied: backoff>=1.10.0 in /usr/local/lib/python3.10/dist-packages (from posthog>=2.4.0->chromadb) (2.2.1)\n",
            "Requirement already satisfied: annotated-types>=0.6.0 in /usr/local/lib/python3.10/dist-packages (from pydantic<3,>=1.9.0->openai==1.56.1) (0.7.0)\n",
            "Requirement already satisfied: pydantic-core==2.27.1 in /usr/local/lib/python3.10/dist-packages (from pydantic<3,>=1.9.0->openai==1.56.1) (2.27.1)\n",
            "Requirement already satisfied: markdown-it-py>=2.2.0 in /usr/local/lib/python3.10/dist-packages (from rich>=10.11.0->chromadb) (3.0.0)\n",
            "Requirement already satisfied: pygments<3.0.0,>=2.13.0 in /usr/local/lib/python3.10/dist-packages (from rich>=10.11.0->chromadb) (2.18.0)\n",
            "Requirement already satisfied: networkx in /usr/local/lib/python3.10/dist-packages (from torch>=1.11.0->sentence-transformers) (3.4.2)\n",
            "Requirement already satisfied: mpmath<1.4,>=1.1.0 in /usr/local/lib/python3.10/dist-packages (from sympy->onnxruntime>=1.14.1->chromadb) (1.3.0)\n",
            "Requirement already satisfied: click>=8.0.0 in /usr/local/lib/python3.10/dist-packages (from typer>=0.9.0->chromadb) (8.1.7)\n",
            "Requirement already satisfied: shellingham>=1.3.0 in /usr/local/lib/python3.10/dist-packages (from typer>=0.9.0->chromadb) (1.5.4)\n",
            "Requirement already satisfied: httptools>=0.6.3 in /usr/local/lib/python3.10/dist-packages (from uvicorn[standard]>=0.18.3->chromadb) (0.6.4)\n",
            "Requirement already satisfied: python-dotenv>=0.13 in /usr/local/lib/python3.10/dist-packages (from uvicorn[standard]>=0.18.3->chromadb) (1.0.1)\n",
            "Requirement already satisfied: uvloop!=0.15.0,!=0.15.1,>=0.14.0 in /usr/local/lib/python3.10/dist-packages (from uvicorn[standard]>=0.18.3->chromadb) (0.21.0)\n",
            "Requirement already satisfied: watchfiles>=0.13 in /usr/local/lib/python3.10/dist-packages (from uvicorn[standard]>=0.18.3->chromadb) (1.0.0)\n",
            "Requirement already satisfied: websockets>=10.4 in /usr/local/lib/python3.10/dist-packages (from uvicorn[standard]>=0.18.3->chromadb) (14.1)\n",
            "Requirement already satisfied: joblib>=1.2.0 in /usr/local/lib/python3.10/dist-packages (from scikit-learn->sentence-transformers) (1.4.2)\n",
            "Requirement already satisfied: threadpoolctl>=3.1.0 in /usr/local/lib/python3.10/dist-packages (from scikit-learn->sentence-transformers) (3.5.0)\n",
            "Requirement already satisfied: cachetools<6.0,>=2.0.0 in /usr/local/lib/python3.10/dist-packages (from google-auth>=1.0.1->kubernetes>=28.1.0->chromadb) (5.5.0)\n",
            "Requirement already satisfied: pyasn1-modules>=0.2.1 in /usr/local/lib/python3.10/dist-packages (from google-auth>=1.0.1->kubernetes>=28.1.0->chromadb) (0.4.1)\n",
            "Requirement already satisfied: rsa<5,>=3.1.4 in /usr/local/lib/python3.10/dist-packages (from google-auth>=1.0.1->kubernetes>=28.1.0->chromadb) (4.9)\n",
            "Requirement already satisfied: zipp>=3.20 in /usr/local/lib/python3.10/dist-packages (from importlib-metadata<=8.5.0,>=6.0->opentelemetry-api>=1.2.0->chromadb) (3.21.0)\n",
            "Requirement already satisfied: mdurl~=0.1 in /usr/local/lib/python3.10/dist-packages (from markdown-it-py>=2.2.0->rich>=10.11.0->chromadb) (0.1.2)\n",
            "Requirement already satisfied: humanfriendly>=9.1 in /usr/local/lib/python3.10/dist-packages (from coloredlogs->onnxruntime>=1.14.1->chromadb) (10.0)\n",
            "Requirement already satisfied: pyasn1<0.7.0,>=0.4.6 in /usr/local/lib/python3.10/dist-packages (from pyasn1-modules>=0.2.1->google-auth>=1.0.1->kubernetes>=28.1.0->chromadb) (0.6.1)\n",
            "Downloading openai-1.56.1-py3-none-any.whl (389 kB)\n",
            "\u001b[2K   \u001b[90m━━━━━━━━━━━━━━━━━━━━━━━━━━━━━━━━━━━━━━━━\u001b[0m \u001b[32m389.8/389.8 kB\u001b[0m \u001b[31m5.7 MB/s\u001b[0m eta \u001b[36m0:00:00\u001b[0m\n",
            "\u001b[?25hDownloading httpx-0.27.2-py3-none-any.whl (76 kB)\n",
            "\u001b[2K   \u001b[90m━━━━━━━━━━━━━━━━━━━━━━━━━━━━━━━━━━━━━━━━\u001b[0m \u001b[32m76.4/76.4 kB\u001b[0m \u001b[31m5.3 MB/s\u001b[0m eta \u001b[36m0:00:00\u001b[0m\n",
            "\u001b[?25hInstalling collected packages: httpx, openai\n",
            "  Attempting uninstall: httpx\n",
            "    Found existing installation: httpx 0.28.0\n",
            "    Uninstalling httpx-0.28.0:\n",
            "      Successfully uninstalled httpx-0.28.0\n",
            "  Attempting uninstall: openai\n",
            "    Found existing installation: openai 1.54.5\n",
            "    Uninstalling openai-1.54.5:\n",
            "      Successfully uninstalled openai-1.54.5\n",
            "Successfully installed httpx-0.27.2 openai-1.56.1\n"
          ]
        }
      ],
      "source": [
        "!pip install requests beautifulsoup4 chromadb PyPDF2 sentence-transformers transformers huggingface_hub  llama-cpp-python jinja2 python-decouple openai==1.56.1 httpx==0.27.2"
      ]
    },
    {
      "cell_type": "markdown",
      "source": [
        "# 1. Setup\n",
        "Preparacion de directorios y decarga de documentos correspondientes."
      ],
      "metadata": {
        "id": "HSL1RpGfDXar"
      }
    },
    {
      "cell_type": "code",
      "source": [
        "!mkdir data\n",
        "!chmod 777 data"
      ],
      "metadata": {
        "id": "QWEV7KAgBsPN",
        "outputId": "9133710f-008d-4dbc-f49b-85d4d8d3a507",
        "colab": {
          "base_uri": "https://localhost:8080/"
        }
      },
      "execution_count": 45,
      "outputs": [
        {
          "output_type": "stream",
          "name": "stdout",
          "text": [
            "mkdir: cannot create directory ‘data’: File exists\n"
          ]
        }
      ]
    },
    {
      "cell_type": "code",
      "source": [
        "!wget https://czechgames.com/files/rules/lost-ruins-of-arnak-rules-es.pdf -O data/lost-ruins-of-arnak-rules-es.pdf"
      ],
      "metadata": {
        "id": "cwmc6GE7Bzes",
        "outputId": "f2682985-211f-41b4-af8a-4adccb233ae9",
        "colab": {
          "base_uri": "https://localhost:8080/"
        }
      },
      "execution_count": 28,
      "outputs": [
        {
          "output_type": "stream",
          "name": "stdout",
          "text": [
            "--2024-12-10 14:47:27--  https://czechgames.com/files/rules/lost-ruins-of-arnak-rules-es.pdf\n",
            "Resolving czechgames.com (czechgames.com)... 185.3.95.246\n",
            "Connecting to czechgames.com (czechgames.com)|185.3.95.246|:443... connected.\n",
            "HTTP request sent, awaiting response... 200 OK\n",
            "Length: 18602936 (18M) [application/pdf]\n",
            "Saving to: ‘data/lost-ruins-of-arnak-rules-es.pdf’\n",
            "\n",
            "data/lost-ruins-of- 100%[===================>]  17.74M  5.88MB/s    in 3.0s    \n",
            "\n",
            "2024-12-10 14:47:34 (5.88 MB/s) - ‘data/lost-ruins-of-arnak-rules-es.pdf’ saved [18602936/18602936]\n",
            "\n"
          ]
        }
      ]
    },
    {
      "cell_type": "code",
      "execution_count": 1,
      "metadata": {
        "id": "VZzNDjFi7j7C"
      },
      "outputs": [],
      "source": [
        "import chromadb\n",
        "import os\n",
        "import requests\n",
        "import json\n",
        "import torch\n",
        "\n",
        "from openai import OpenAI\n",
        "from decouple import config\n",
        "from jinja2 import Template\n",
        "from transformers import pipeline\n",
        "from google.colab import userdata\n",
        "from bs4 import BeautifulSoup\n",
        "from chromadb.config import Settings\n",
        "from PyPDF2 import PdfReader\n",
        "from huggingface_hub import hf_hub_download\n",
        "from transformers import AutoModelForCausalLM, AutoTokenizer, pipeline\n",
        "from sentence_transformers import SentenceTransformer\n",
        "from langchain.text_splitter import RecursiveCharacterTextSplitter"
      ]
    },
    {
      "cell_type": "code",
      "source": [
        "import warnings\n",
        "warnings.filterwarnings('ignore')"
      ],
      "metadata": {
        "id": "v0oDsBt9aVaA"
      },
      "execution_count": 20,
      "outputs": []
    },
    {
      "cell_type": "markdown",
      "metadata": {
        "id": "f5IDL2rg7j7C"
      },
      "source": [
        "# 1. Preparación de los datos"
      ]
    },
    {
      "cell_type": "markdown",
      "source": [
        "## 1.1 Scrapping\n",
        "Se realiza el scrapping de las páginas donde se encuentran la información requerida del juego."
      ],
      "metadata": {
        "id": "Y3GVmZSTETcn"
      }
    },
    {
      "cell_type": "code",
      "source": [
        "def save_webpage_text(url, output_file):\n",
        "    try:\n",
        "        response = requests.get(url)\n",
        "        response.raise_for_status()\n",
        "\n",
        "        soup = BeautifulSoup(response.content, 'html.parser')\n",
        "\n",
        "        full_text = soup.get_text(separator=\"\\n\", strip=True)\n",
        "\n",
        "        with open(output_file, 'w', encoding='utf-8') as file:\n",
        "            file.write(full_text)\n",
        "\n",
        "        print(f\"Texto extraído y guardado en {output_file}\")\n",
        "    except Exception as e:\n",
        "        print(f\"Error: {e}\")"
      ],
      "metadata": {
        "id": "Z5DjIAgbDjtH"
      },
      "execution_count": 2,
      "outputs": []
    },
    {
      "cell_type": "code",
      "source": [
        "save_webpage_text(url=\"https://misutmeeple.com/2021/04/resena-las-ruinas-perdidas-de-arnak/\",\n",
        "                  output_file=os.path.join(os.getcwd(), 'data', 'resena.txt'))"
      ],
      "metadata": {
        "id": "0a7lDmEYDtgY",
        "outputId": "a4de3ccc-329b-47ab-8ef7-c740b59e26a0",
        "colab": {
          "base_uri": "https://localhost:8080/"
        }
      },
      "execution_count": 32,
      "outputs": [
        {
          "output_type": "stream",
          "name": "stdout",
          "text": [
            "Texto extraído y guardado en /content/data/resena.txt\n"
          ]
        }
      ]
    },
    {
      "cell_type": "code",
      "source": [
        "save_webpage_text(url=\"https://donmeeple.com/ruinas-perdidas-arnak-juego-mesa/\",\n",
        "                  output_file=os.path.join(os.getcwd(), 'data', 'resena_2.txt'))"
      ],
      "metadata": {
        "id": "BdRLYeauE1go",
        "outputId": "42185c90-5b81-4e17-97e3-b904c02af144",
        "colab": {
          "base_uri": "https://localhost:8080/"
        }
      },
      "execution_count": 34,
      "outputs": [
        {
          "output_type": "stream",
          "name": "stdout",
          "text": [
            "Texto extraído y guardado en /content/data/resena_2.txt\n"
          ]
        }
      ]
    },
    {
      "cell_type": "code",
      "source": [
        "save_webpage_text(url=\"https://mishigeek.com/lost-ruins-of-arnak-resena-en-espanol/\",\n",
        "                  output_file=os.path.join(os.getcwd(), 'data', 'reglas.txt'))"
      ],
      "metadata": {
        "id": "DqWDM9tEF5DS",
        "outputId": "cf85fd02-75de-47fd-9401-52539e59a70a",
        "colab": {
          "base_uri": "https://localhost:8080/"
        }
      },
      "execution_count": 37,
      "outputs": [
        {
          "output_type": "stream",
          "name": "stdout",
          "text": [
            "Error: ('Connection aborted.', RemoteDisconnected('Remote end closed connection without response'))\n"
          ]
        }
      ]
    },
    {
      "cell_type": "markdown",
      "metadata": {
        "id": "R2m22RKr7j7E"
      },
      "source": [
        "## 1.2 Creación de la base de datos vectorial\n",
        "Creo todas las funciones necesarias para facilitar el preprocesado de los datos."
      ]
    },
    {
      "cell_type": "code",
      "execution_count": 3,
      "metadata": {
        "id": "sZfcFS637j7E",
        "outputId": "972d8aff-68c5-47b4-9a7a-b061a300d4ea",
        "colab": {
          "base_uri": "https://localhost:8080/"
        }
      },
      "outputs": [
        {
          "output_type": "stream",
          "name": "stderr",
          "text": [
            "/usr/local/lib/python3.10/dist-packages/huggingface_hub/utils/_auth.py:94: UserWarning: \n",
            "The secret `HF_TOKEN` does not exist in your Colab secrets.\n",
            "To authenticate with the Hugging Face Hub, create a token in your settings tab (https://huggingface.co/settings/tokens), set it as secret in your Google Colab and restart your session.\n",
            "You will be able to reuse this secret in all of your notebooks.\n",
            "Please note that authentication is recommended but still optional to access public models or datasets.\n",
            "  warnings.warn(\n"
          ]
        }
      ],
      "source": [
        "embedding_model = SentenceTransformer('all-MiniLM-L6-v2')"
      ]
    },
    {
      "cell_type": "code",
      "execution_count": 4,
      "metadata": {
        "id": "9BqNC1l87j7F"
      },
      "outputs": [],
      "source": [
        "client = chromadb.PersistentClient(path=os.path.join('data', 'vector'))\n",
        "\n",
        "collection = client.get_or_create_collection(name=\"arnak\")"
      ]
    },
    {
      "cell_type": "code",
      "execution_count": 5,
      "metadata": {
        "id": "dn7tnaHr7j7G"
      },
      "outputs": [],
      "source": [
        "def read_text_file(file_path: str) -> str:\n",
        "    with open(file_path, 'r', encoding='utf-8') as file:\n",
        "        return file.read()"
      ]
    },
    {
      "cell_type": "code",
      "execution_count": 6,
      "metadata": {
        "id": "a58SHxkM7j7G"
      },
      "outputs": [],
      "source": [
        "def read_pdf_file(file_path: str) -> str:\n",
        "    pdf_reader = PdfReader(file_path)\n",
        "    text = \"\"\n",
        "    for page in pdf_reader.pages:\n",
        "        text += page.extract_text()\n",
        "    return text"
      ]
    },
    {
      "cell_type": "code",
      "execution_count": 7,
      "metadata": {
        "id": "pixs8ClN7j7H"
      },
      "outputs": [],
      "source": [
        "def split_into_chunks(text: str, chunk_size: int = 500, chunk_overlap: int = 100) -> list[str]:\n",
        "    clean_text = \"\\n\".join(\n",
        "        line.strip() for line in text.splitlines() if line.strip()\n",
        "    )\n",
        "\n",
        "    text_splitter = RecursiveCharacterTextSplitter(\n",
        "        chunk_size=chunk_size,\n",
        "        chunk_overlap=chunk_overlap,\n",
        "        separators=[\"\\n\\n\", \"\\n\", \".\"]\n",
        "    )\n",
        "\n",
        "    chunks = text_splitter.split_text(clean_text)\n",
        "\n",
        "    return chunks"
      ]
    },
    {
      "cell_type": "code",
      "execution_count": 8,
      "metadata": {
        "id": "_c1IprPC7j7H"
      },
      "outputs": [],
      "source": [
        "def insert_into_chromadb(collection: str, chunks: list[str], embedding_model) -> None:\n",
        "    for i, chunk in enumerate(chunks):\n",
        "        embedding = embedding_model.encode(chunk)\n",
        "        collection.add(\n",
        "            documents=[chunk],\n",
        "            metadatas=[{\"chunk_id\": i}],\n",
        "            ids=[f\"doc_{i}\"]\n",
        "        )"
      ]
    },
    {
      "cell_type": "code",
      "execution_count": 9,
      "metadata": {
        "id": "iyyr5ueN7j7I"
      },
      "outputs": [],
      "source": [
        "def process_and_store(file_paths: str) -> None:\n",
        "    for file_path in file_paths:\n",
        "        if file_path.endswith('.txt'):\n",
        "            text = read_text_file(file_path)\n",
        "        elif file_path.endswith('.pdf'):\n",
        "            text = read_pdf_file(file_path)\n",
        "        else:\n",
        "            raise ValueError(f\"Formato no soportado: {file_path}\")\n",
        "\n",
        "        chunks = split_into_chunks(text)\n",
        "        insert_into_chromadb(collection, chunks, embedding_model)"
      ]
    },
    {
      "cell_type": "code",
      "execution_count": 10,
      "metadata": {
        "id": "Qleh9t6Y7j7I"
      },
      "outputs": [],
      "source": [
        "file_paths: list[str] = [os.path.join(os.getcwd(), 'data', 'resena.txt'),\n",
        "                         os.path.join(os.getcwd(), 'data', 'resena_2.txt'),\n",
        "                         os.path.join(os.getcwd(), 'data', 'lost-ruins-of-arnak-rules-es.pdf')]"
      ]
    },
    {
      "cell_type": "code",
      "execution_count": 13,
      "metadata": {
        "id": "iINdJ33Y7j7I",
        "outputId": "991b441c-e84b-4325-b518-dff9ee152440",
        "colab": {
          "base_uri": "https://localhost:8080/"
        }
      },
      "outputs": [
        {
          "output_type": "stream",
          "name": "stderr",
          "text": [
            "WARNING:chromadb.segment.impl.metadata.sqlite:Insert of existing embedding ID: doc_0\n",
            "WARNING:chromadb.segment.impl.vector.local_persistent_hnsw:Add of existing embedding ID: doc_0\n",
            "WARNING:chromadb.segment.impl.metadata.sqlite:Insert of existing embedding ID: doc_1\n",
            "WARNING:chromadb.segment.impl.vector.local_persistent_hnsw:Add of existing embedding ID: doc_1\n",
            "WARNING:chromadb.segment.impl.metadata.sqlite:Insert of existing embedding ID: doc_2\n",
            "WARNING:chromadb.segment.impl.vector.local_persistent_hnsw:Add of existing embedding ID: doc_2\n",
            "WARNING:chromadb.segment.impl.metadata.sqlite:Insert of existing embedding ID: doc_3\n",
            "WARNING:chromadb.segment.impl.vector.local_persistent_hnsw:Add of existing embedding ID: doc_3\n",
            "WARNING:chromadb.segment.impl.metadata.sqlite:Insert of existing embedding ID: doc_4\n",
            "WARNING:chromadb.segment.impl.vector.local_persistent_hnsw:Add of existing embedding ID: doc_4\n",
            "WARNING:chromadb.segment.impl.metadata.sqlite:Insert of existing embedding ID: doc_5\n",
            "WARNING:chromadb.segment.impl.vector.local_persistent_hnsw:Add of existing embedding ID: doc_5\n",
            "WARNING:chromadb.segment.impl.metadata.sqlite:Insert of existing embedding ID: doc_6\n",
            "WARNING:chromadb.segment.impl.vector.local_persistent_hnsw:Add of existing embedding ID: doc_6\n",
            "WARNING:chromadb.segment.impl.metadata.sqlite:Insert of existing embedding ID: doc_7\n",
            "WARNING:chromadb.segment.impl.vector.local_persistent_hnsw:Add of existing embedding ID: doc_7\n",
            "WARNING:chromadb.segment.impl.metadata.sqlite:Insert of existing embedding ID: doc_8\n",
            "WARNING:chromadb.segment.impl.vector.local_persistent_hnsw:Add of existing embedding ID: doc_8\n",
            "WARNING:chromadb.segment.impl.metadata.sqlite:Insert of existing embedding ID: doc_9\n",
            "WARNING:chromadb.segment.impl.vector.local_persistent_hnsw:Add of existing embedding ID: doc_9\n",
            "WARNING:chromadb.segment.impl.metadata.sqlite:Insert of existing embedding ID: doc_10\n",
            "WARNING:chromadb.segment.impl.vector.local_persistent_hnsw:Add of existing embedding ID: doc_10\n",
            "WARNING:chromadb.segment.impl.metadata.sqlite:Insert of existing embedding ID: doc_11\n",
            "WARNING:chromadb.segment.impl.vector.local_persistent_hnsw:Add of existing embedding ID: doc_11\n",
            "WARNING:chromadb.segment.impl.metadata.sqlite:Insert of existing embedding ID: doc_12\n",
            "WARNING:chromadb.segment.impl.vector.local_persistent_hnsw:Add of existing embedding ID: doc_12\n",
            "WARNING:chromadb.segment.impl.metadata.sqlite:Insert of existing embedding ID: doc_13\n",
            "WARNING:chromadb.segment.impl.vector.local_persistent_hnsw:Add of existing embedding ID: doc_13\n",
            "WARNING:chromadb.segment.impl.metadata.sqlite:Insert of existing embedding ID: doc_14\n",
            "WARNING:chromadb.segment.impl.vector.local_persistent_hnsw:Add of existing embedding ID: doc_14\n",
            "WARNING:chromadb.segment.impl.metadata.sqlite:Insert of existing embedding ID: doc_15\n",
            "WARNING:chromadb.segment.impl.vector.local_persistent_hnsw:Add of existing embedding ID: doc_15\n",
            "WARNING:chromadb.segment.impl.metadata.sqlite:Insert of existing embedding ID: doc_16\n",
            "WARNING:chromadb.segment.impl.vector.local_persistent_hnsw:Add of existing embedding ID: doc_16\n",
            "WARNING:chromadb.segment.impl.metadata.sqlite:Insert of existing embedding ID: doc_17\n",
            "WARNING:chromadb.segment.impl.vector.local_persistent_hnsw:Add of existing embedding ID: doc_17\n",
            "WARNING:chromadb.segment.impl.metadata.sqlite:Insert of existing embedding ID: doc_18\n",
            "WARNING:chromadb.segment.impl.vector.local_persistent_hnsw:Add of existing embedding ID: doc_18\n",
            "WARNING:chromadb.segment.impl.metadata.sqlite:Insert of existing embedding ID: doc_19\n",
            "WARNING:chromadb.segment.impl.vector.local_persistent_hnsw:Add of existing embedding ID: doc_19\n",
            "WARNING:chromadb.segment.impl.metadata.sqlite:Insert of existing embedding ID: doc_20\n",
            "WARNING:chromadb.segment.impl.vector.local_persistent_hnsw:Add of existing embedding ID: doc_20\n",
            "WARNING:chromadb.segment.impl.metadata.sqlite:Insert of existing embedding ID: doc_21\n",
            "WARNING:chromadb.segment.impl.vector.local_persistent_hnsw:Add of existing embedding ID: doc_21\n",
            "WARNING:chromadb.segment.impl.metadata.sqlite:Insert of existing embedding ID: doc_22\n",
            "WARNING:chromadb.segment.impl.vector.local_persistent_hnsw:Add of existing embedding ID: doc_22\n",
            "WARNING:chromadb.segment.impl.metadata.sqlite:Insert of existing embedding ID: doc_23\n",
            "WARNING:chromadb.segment.impl.vector.local_persistent_hnsw:Add of existing embedding ID: doc_23\n",
            "WARNING:chromadb.segment.impl.metadata.sqlite:Insert of existing embedding ID: doc_24\n",
            "WARNING:chromadb.segment.impl.vector.local_persistent_hnsw:Add of existing embedding ID: doc_24\n",
            "WARNING:chromadb.segment.impl.metadata.sqlite:Insert of existing embedding ID: doc_25\n",
            "WARNING:chromadb.segment.impl.vector.local_persistent_hnsw:Add of existing embedding ID: doc_25\n",
            "WARNING:chromadb.segment.impl.metadata.sqlite:Insert of existing embedding ID: doc_26\n",
            "WARNING:chromadb.segment.impl.vector.local_persistent_hnsw:Add of existing embedding ID: doc_26\n",
            "WARNING:chromadb.segment.impl.metadata.sqlite:Insert of existing embedding ID: doc_27\n",
            "WARNING:chromadb.segment.impl.vector.local_persistent_hnsw:Add of existing embedding ID: doc_27\n",
            "WARNING:chromadb.segment.impl.metadata.sqlite:Insert of existing embedding ID: doc_28\n",
            "WARNING:chromadb.segment.impl.vector.local_persistent_hnsw:Add of existing embedding ID: doc_28\n",
            "WARNING:chromadb.segment.impl.metadata.sqlite:Insert of existing embedding ID: doc_29\n",
            "WARNING:chromadb.segment.impl.vector.local_persistent_hnsw:Add of existing embedding ID: doc_29\n",
            "WARNING:chromadb.segment.impl.metadata.sqlite:Insert of existing embedding ID: doc_30\n",
            "WARNING:chromadb.segment.impl.vector.local_persistent_hnsw:Add of existing embedding ID: doc_30\n",
            "WARNING:chromadb.segment.impl.metadata.sqlite:Insert of existing embedding ID: doc_31\n",
            "WARNING:chromadb.segment.impl.vector.local_persistent_hnsw:Add of existing embedding ID: doc_31\n",
            "WARNING:chromadb.segment.impl.metadata.sqlite:Insert of existing embedding ID: doc_32\n",
            "WARNING:chromadb.segment.impl.vector.local_persistent_hnsw:Add of existing embedding ID: doc_32\n",
            "WARNING:chromadb.segment.impl.metadata.sqlite:Insert of existing embedding ID: doc_33\n",
            "WARNING:chromadb.segment.impl.vector.local_persistent_hnsw:Add of existing embedding ID: doc_33\n",
            "WARNING:chromadb.segment.impl.metadata.sqlite:Insert of existing embedding ID: doc_34\n",
            "WARNING:chromadb.segment.impl.vector.local_persistent_hnsw:Add of existing embedding ID: doc_34\n",
            "WARNING:chromadb.segment.impl.metadata.sqlite:Insert of existing embedding ID: doc_35\n",
            "WARNING:chromadb.segment.impl.vector.local_persistent_hnsw:Add of existing embedding ID: doc_35\n",
            "WARNING:chromadb.segment.impl.metadata.sqlite:Insert of existing embedding ID: doc_36\n",
            "WARNING:chromadb.segment.impl.vector.local_persistent_hnsw:Add of existing embedding ID: doc_36\n",
            "WARNING:chromadb.segment.impl.metadata.sqlite:Insert of existing embedding ID: doc_37\n",
            "WARNING:chromadb.segment.impl.vector.local_persistent_hnsw:Add of existing embedding ID: doc_37\n",
            "WARNING:chromadb.segment.impl.metadata.sqlite:Insert of existing embedding ID: doc_38\n",
            "WARNING:chromadb.segment.impl.vector.local_persistent_hnsw:Add of existing embedding ID: doc_38\n",
            "WARNING:chromadb.segment.impl.metadata.sqlite:Insert of existing embedding ID: doc_39\n",
            "WARNING:chromadb.segment.impl.vector.local_persistent_hnsw:Add of existing embedding ID: doc_39\n",
            "WARNING:chromadb.segment.impl.metadata.sqlite:Insert of existing embedding ID: doc_40\n",
            "WARNING:chromadb.segment.impl.vector.local_persistent_hnsw:Add of existing embedding ID: doc_40\n",
            "WARNING:chromadb.segment.impl.metadata.sqlite:Insert of existing embedding ID: doc_41\n",
            "WARNING:chromadb.segment.impl.vector.local_persistent_hnsw:Add of existing embedding ID: doc_41\n",
            "WARNING:chromadb.segment.impl.metadata.sqlite:Insert of existing embedding ID: doc_42\n",
            "WARNING:chromadb.segment.impl.vector.local_persistent_hnsw:Add of existing embedding ID: doc_42\n",
            "WARNING:chromadb.segment.impl.metadata.sqlite:Insert of existing embedding ID: doc_43\n",
            "WARNING:chromadb.segment.impl.vector.local_persistent_hnsw:Add of existing embedding ID: doc_43\n",
            "WARNING:chromadb.segment.impl.metadata.sqlite:Insert of existing embedding ID: doc_44\n",
            "WARNING:chromadb.segment.impl.vector.local_persistent_hnsw:Add of existing embedding ID: doc_44\n",
            "WARNING:chromadb.segment.impl.metadata.sqlite:Insert of existing embedding ID: doc_45\n",
            "WARNING:chromadb.segment.impl.vector.local_persistent_hnsw:Add of existing embedding ID: doc_45\n",
            "WARNING:chromadb.segment.impl.metadata.sqlite:Insert of existing embedding ID: doc_46\n",
            "WARNING:chromadb.segment.impl.vector.local_persistent_hnsw:Add of existing embedding ID: doc_46\n",
            "WARNING:chromadb.segment.impl.metadata.sqlite:Insert of existing embedding ID: doc_47\n",
            "WARNING:chromadb.segment.impl.vector.local_persistent_hnsw:Add of existing embedding ID: doc_47\n",
            "WARNING:chromadb.segment.impl.metadata.sqlite:Insert of existing embedding ID: doc_48\n",
            "WARNING:chromadb.segment.impl.vector.local_persistent_hnsw:Add of existing embedding ID: doc_48\n",
            "WARNING:chromadb.segment.impl.metadata.sqlite:Insert of existing embedding ID: doc_49\n",
            "WARNING:chromadb.segment.impl.vector.local_persistent_hnsw:Add of existing embedding ID: doc_49\n",
            "WARNING:chromadb.segment.impl.metadata.sqlite:Insert of existing embedding ID: doc_0\n",
            "WARNING:chromadb.segment.impl.vector.local_persistent_hnsw:Add of existing embedding ID: doc_0\n",
            "WARNING:chromadb.segment.impl.metadata.sqlite:Insert of existing embedding ID: doc_1\n",
            "WARNING:chromadb.segment.impl.vector.local_persistent_hnsw:Add of existing embedding ID: doc_1\n",
            "WARNING:chromadb.segment.impl.metadata.sqlite:Insert of existing embedding ID: doc_2\n",
            "WARNING:chromadb.segment.impl.vector.local_persistent_hnsw:Add of existing embedding ID: doc_2\n",
            "WARNING:chromadb.segment.impl.metadata.sqlite:Insert of existing embedding ID: doc_3\n",
            "WARNING:chromadb.segment.impl.vector.local_persistent_hnsw:Add of existing embedding ID: doc_3\n",
            "WARNING:chromadb.segment.impl.metadata.sqlite:Insert of existing embedding ID: doc_4\n",
            "WARNING:chromadb.segment.impl.vector.local_persistent_hnsw:Add of existing embedding ID: doc_4\n",
            "WARNING:chromadb.segment.impl.metadata.sqlite:Insert of existing embedding ID: doc_5\n",
            "WARNING:chromadb.segment.impl.vector.local_persistent_hnsw:Add of existing embedding ID: doc_5\n",
            "WARNING:chromadb.segment.impl.metadata.sqlite:Insert of existing embedding ID: doc_6\n",
            "WARNING:chromadb.segment.impl.vector.local_persistent_hnsw:Add of existing embedding ID: doc_6\n",
            "WARNING:chromadb.segment.impl.metadata.sqlite:Insert of existing embedding ID: doc_7\n",
            "WARNING:chromadb.segment.impl.vector.local_persistent_hnsw:Add of existing embedding ID: doc_7\n",
            "WARNING:chromadb.segment.impl.metadata.sqlite:Insert of existing embedding ID: doc_8\n",
            "WARNING:chromadb.segment.impl.vector.local_persistent_hnsw:Add of existing embedding ID: doc_8\n",
            "WARNING:chromadb.segment.impl.metadata.sqlite:Insert of existing embedding ID: doc_9\n",
            "WARNING:chromadb.segment.impl.vector.local_persistent_hnsw:Add of existing embedding ID: doc_9\n",
            "WARNING:chromadb.segment.impl.metadata.sqlite:Insert of existing embedding ID: doc_10\n",
            "WARNING:chromadb.segment.impl.vector.local_persistent_hnsw:Add of existing embedding ID: doc_10\n",
            "WARNING:chromadb.segment.impl.metadata.sqlite:Insert of existing embedding ID: doc_11\n",
            "WARNING:chromadb.segment.impl.vector.local_persistent_hnsw:Add of existing embedding ID: doc_11\n",
            "WARNING:chromadb.segment.impl.metadata.sqlite:Insert of existing embedding ID: doc_12\n",
            "WARNING:chromadb.segment.impl.vector.local_persistent_hnsw:Add of existing embedding ID: doc_12\n",
            "WARNING:chromadb.segment.impl.metadata.sqlite:Insert of existing embedding ID: doc_13\n",
            "WARNING:chromadb.segment.impl.vector.local_persistent_hnsw:Add of existing embedding ID: doc_13\n",
            "WARNING:chromadb.segment.impl.metadata.sqlite:Insert of existing embedding ID: doc_14\n",
            "WARNING:chromadb.segment.impl.vector.local_persistent_hnsw:Add of existing embedding ID: doc_14\n",
            "WARNING:chromadb.segment.impl.metadata.sqlite:Insert of existing embedding ID: doc_15\n",
            "WARNING:chromadb.segment.impl.vector.local_persistent_hnsw:Add of existing embedding ID: doc_15\n",
            "WARNING:chromadb.segment.impl.metadata.sqlite:Insert of existing embedding ID: doc_16\n",
            "WARNING:chromadb.segment.impl.vector.local_persistent_hnsw:Add of existing embedding ID: doc_16\n",
            "WARNING:chromadb.segment.impl.metadata.sqlite:Insert of existing embedding ID: doc_17\n",
            "WARNING:chromadb.segment.impl.vector.local_persistent_hnsw:Add of existing embedding ID: doc_17\n",
            "WARNING:chromadb.segment.impl.metadata.sqlite:Insert of existing embedding ID: doc_18\n",
            "WARNING:chromadb.segment.impl.vector.local_persistent_hnsw:Add of existing embedding ID: doc_18\n",
            "WARNING:chromadb.segment.impl.metadata.sqlite:Insert of existing embedding ID: doc_19\n",
            "WARNING:chromadb.segment.impl.vector.local_persistent_hnsw:Add of existing embedding ID: doc_19\n",
            "WARNING:chromadb.segment.impl.metadata.sqlite:Insert of existing embedding ID: doc_20\n",
            "WARNING:chromadb.segment.impl.vector.local_persistent_hnsw:Add of existing embedding ID: doc_20\n",
            "WARNING:chromadb.segment.impl.metadata.sqlite:Insert of existing embedding ID: doc_21\n",
            "WARNING:chromadb.segment.impl.vector.local_persistent_hnsw:Add of existing embedding ID: doc_21\n",
            "WARNING:chromadb.segment.impl.metadata.sqlite:Insert of existing embedding ID: doc_22\n",
            "WARNING:chromadb.segment.impl.vector.local_persistent_hnsw:Add of existing embedding ID: doc_22\n",
            "WARNING:chromadb.segment.impl.metadata.sqlite:Insert of existing embedding ID: doc_23\n",
            "WARNING:chromadb.segment.impl.vector.local_persistent_hnsw:Add of existing embedding ID: doc_23\n",
            "WARNING:chromadb.segment.impl.metadata.sqlite:Insert of existing embedding ID: doc_24\n",
            "WARNING:chromadb.segment.impl.vector.local_persistent_hnsw:Add of existing embedding ID: doc_24\n",
            "WARNING:chromadb.segment.impl.metadata.sqlite:Insert of existing embedding ID: doc_25\n",
            "WARNING:chromadb.segment.impl.vector.local_persistent_hnsw:Add of existing embedding ID: doc_25\n",
            "WARNING:chromadb.segment.impl.metadata.sqlite:Insert of existing embedding ID: doc_26\n",
            "WARNING:chromadb.segment.impl.vector.local_persistent_hnsw:Add of existing embedding ID: doc_26\n",
            "WARNING:chromadb.segment.impl.metadata.sqlite:Insert of existing embedding ID: doc_27\n",
            "WARNING:chromadb.segment.impl.vector.local_persistent_hnsw:Add of existing embedding ID: doc_27\n",
            "WARNING:chromadb.segment.impl.metadata.sqlite:Insert of existing embedding ID: doc_28\n",
            "WARNING:chromadb.segment.impl.vector.local_persistent_hnsw:Add of existing embedding ID: doc_28\n",
            "WARNING:chromadb.segment.impl.metadata.sqlite:Insert of existing embedding ID: doc_29\n",
            "WARNING:chromadb.segment.impl.vector.local_persistent_hnsw:Add of existing embedding ID: doc_29\n",
            "WARNING:chromadb.segment.impl.metadata.sqlite:Insert of existing embedding ID: doc_30\n",
            "WARNING:chromadb.segment.impl.vector.local_persistent_hnsw:Add of existing embedding ID: doc_30\n",
            "WARNING:chromadb.segment.impl.metadata.sqlite:Insert of existing embedding ID: doc_31\n",
            "WARNING:chromadb.segment.impl.vector.local_persistent_hnsw:Add of existing embedding ID: doc_31\n",
            "WARNING:chromadb.segment.impl.metadata.sqlite:Insert of existing embedding ID: doc_32\n",
            "WARNING:chromadb.segment.impl.vector.local_persistent_hnsw:Add of existing embedding ID: doc_32\n",
            "WARNING:chromadb.segment.impl.metadata.sqlite:Insert of existing embedding ID: doc_33\n",
            "WARNING:chromadb.segment.impl.vector.local_persistent_hnsw:Add of existing embedding ID: doc_33\n",
            "WARNING:chromadb.segment.impl.metadata.sqlite:Insert of existing embedding ID: doc_34\n",
            "WARNING:chromadb.segment.impl.vector.local_persistent_hnsw:Add of existing embedding ID: doc_34\n",
            "WARNING:chromadb.segment.impl.metadata.sqlite:Insert of existing embedding ID: doc_35\n",
            "WARNING:chromadb.segment.impl.vector.local_persistent_hnsw:Add of existing embedding ID: doc_35\n",
            "WARNING:chromadb.segment.impl.metadata.sqlite:Insert of existing embedding ID: doc_36\n",
            "WARNING:chromadb.segment.impl.vector.local_persistent_hnsw:Add of existing embedding ID: doc_36\n",
            "WARNING:chromadb.segment.impl.metadata.sqlite:Insert of existing embedding ID: doc_37\n",
            "WARNING:chromadb.segment.impl.vector.local_persistent_hnsw:Add of existing embedding ID: doc_37\n",
            "WARNING:chromadb.segment.impl.metadata.sqlite:Insert of existing embedding ID: doc_38\n",
            "WARNING:chromadb.segment.impl.vector.local_persistent_hnsw:Add of existing embedding ID: doc_38\n",
            "WARNING:chromadb.segment.impl.metadata.sqlite:Insert of existing embedding ID: doc_39\n",
            "WARNING:chromadb.segment.impl.vector.local_persistent_hnsw:Add of existing embedding ID: doc_39\n",
            "WARNING:chromadb.segment.impl.metadata.sqlite:Insert of existing embedding ID: doc_40\n",
            "WARNING:chromadb.segment.impl.vector.local_persistent_hnsw:Add of existing embedding ID: doc_40\n",
            "WARNING:chromadb.segment.impl.metadata.sqlite:Insert of existing embedding ID: doc_41\n",
            "WARNING:chromadb.segment.impl.vector.local_persistent_hnsw:Add of existing embedding ID: doc_41\n",
            "WARNING:chromadb.segment.impl.metadata.sqlite:Insert of existing embedding ID: doc_42\n",
            "WARNING:chromadb.segment.impl.vector.local_persistent_hnsw:Add of existing embedding ID: doc_42\n",
            "WARNING:chromadb.segment.impl.metadata.sqlite:Insert of existing embedding ID: doc_43\n",
            "WARNING:chromadb.segment.impl.vector.local_persistent_hnsw:Add of existing embedding ID: doc_43\n",
            "WARNING:chromadb.segment.impl.metadata.sqlite:Insert of existing embedding ID: doc_44\n",
            "WARNING:chromadb.segment.impl.vector.local_persistent_hnsw:Add of existing embedding ID: doc_44\n",
            "WARNING:chromadb.segment.impl.metadata.sqlite:Insert of existing embedding ID: doc_45\n",
            "WARNING:chromadb.segment.impl.vector.local_persistent_hnsw:Add of existing embedding ID: doc_45\n",
            "WARNING:chromadb.segment.impl.metadata.sqlite:Insert of existing embedding ID: doc_46\n",
            "WARNING:chromadb.segment.impl.vector.local_persistent_hnsw:Add of existing embedding ID: doc_46\n",
            "WARNING:chromadb.segment.impl.metadata.sqlite:Insert of existing embedding ID: doc_47\n",
            "WARNING:chromadb.segment.impl.vector.local_persistent_hnsw:Add of existing embedding ID: doc_47\n",
            "WARNING:chromadb.segment.impl.metadata.sqlite:Insert of existing embedding ID: doc_48\n",
            "WARNING:chromadb.segment.impl.vector.local_persistent_hnsw:Add of existing embedding ID: doc_48\n",
            "WARNING:chromadb.segment.impl.metadata.sqlite:Insert of existing embedding ID: doc_49\n",
            "WARNING:chromadb.segment.impl.vector.local_persistent_hnsw:Add of existing embedding ID: doc_49\n",
            "WARNING:chromadb.segment.impl.metadata.sqlite:Insert of existing embedding ID: doc_50\n",
            "WARNING:chromadb.segment.impl.vector.local_persistent_hnsw:Add of existing embedding ID: doc_50\n",
            "WARNING:chromadb.segment.impl.metadata.sqlite:Insert of existing embedding ID: doc_51\n",
            "WARNING:chromadb.segment.impl.vector.local_persistent_hnsw:Add of existing embedding ID: doc_51\n",
            "WARNING:chromadb.segment.impl.metadata.sqlite:Insert of existing embedding ID: doc_52\n",
            "WARNING:chromadb.segment.impl.vector.local_persistent_hnsw:Add of existing embedding ID: doc_52\n",
            "WARNING:chromadb.segment.impl.metadata.sqlite:Insert of existing embedding ID: doc_53\n",
            "WARNING:chromadb.segment.impl.vector.local_persistent_hnsw:Add of existing embedding ID: doc_53\n",
            "WARNING:chromadb.segment.impl.metadata.sqlite:Insert of existing embedding ID: doc_54\n",
            "WARNING:chromadb.segment.impl.vector.local_persistent_hnsw:Add of existing embedding ID: doc_54\n",
            "WARNING:chromadb.segment.impl.metadata.sqlite:Insert of existing embedding ID: doc_55\n",
            "WARNING:chromadb.segment.impl.vector.local_persistent_hnsw:Add of existing embedding ID: doc_55\n",
            "WARNING:chromadb.segment.impl.metadata.sqlite:Insert of existing embedding ID: doc_56\n",
            "WARNING:chromadb.segment.impl.vector.local_persistent_hnsw:Add of existing embedding ID: doc_56\n",
            "WARNING:chromadb.segment.impl.metadata.sqlite:Insert of existing embedding ID: doc_57\n",
            "WARNING:chromadb.segment.impl.vector.local_persistent_hnsw:Add of existing embedding ID: doc_57\n",
            "WARNING:chromadb.segment.impl.metadata.sqlite:Insert of existing embedding ID: doc_58\n",
            "WARNING:chromadb.segment.impl.vector.local_persistent_hnsw:Add of existing embedding ID: doc_58\n",
            "WARNING:chromadb.segment.impl.metadata.sqlite:Insert of existing embedding ID: doc_59\n",
            "WARNING:chromadb.segment.impl.vector.local_persistent_hnsw:Add of existing embedding ID: doc_59\n",
            "WARNING:chromadb.segment.impl.metadata.sqlite:Insert of existing embedding ID: doc_60\n",
            "WARNING:chromadb.segment.impl.vector.local_persistent_hnsw:Add of existing embedding ID: doc_60\n",
            "WARNING:chromadb.segment.impl.metadata.sqlite:Insert of existing embedding ID: doc_61\n",
            "WARNING:chromadb.segment.impl.vector.local_persistent_hnsw:Add of existing embedding ID: doc_61\n"
          ]
        }
      ],
      "source": [
        "process_and_store(file_paths)"
      ]
    },
    {
      "cell_type": "markdown",
      "source": [
        "## 1.2 Funciones de consulta"
      ],
      "metadata": {
        "id": "GIpmOxpy_StM"
      }
    },
    {
      "cell_type": "code",
      "execution_count": 11,
      "metadata": {
        "id": "VynmQ-bv7j7I"
      },
      "outputs": [],
      "source": [
        "def get_embedding(query: str, embedding_model) -> list[float]:\n",
        "    return embedding_model.encode(query)"
      ]
    },
    {
      "cell_type": "code",
      "source": [
        "def query_chromadb(collection: str, query: str, embedding_model, top_k: int=3) -> list[list[float]]:\n",
        "    embedding = get_embedding(query, embedding_model)\n",
        "    results = collection.query(\n",
        "        query_embeddings=[embedding],\n",
        "        n_results=top_k\n",
        "    )\n",
        "    return results"
      ],
      "metadata": {
        "id": "T-CjxHlF_iph"
      },
      "execution_count": 12,
      "outputs": []
    },
    {
      "cell_type": "code",
      "source": [
        "def display_results(results):\n",
        "    for i, document in enumerate(results['documents'][0]):\n",
        "        print(f\"Resultado {i+1}:\")\n",
        "        print(f\"Texto: {document}\")\n",
        "        print(f\"Metadata: {results['metadatas'][0][i]}\")\n",
        "        print(f\"ID: {results['ids'][0][i]}\")\n",
        "        print(\"-\" * 50)"
      ],
      "metadata": {
        "id": "iFRXE3xi_jJ5"
      },
      "execution_count": 13,
      "outputs": []
    },
    {
      "cell_type": "code",
      "source": [
        "query = \"Reglas del juego Las Ruinas Perdidas de Arnak\"\n",
        "results = query_chromadb(collection, query, embedding_model)\n",
        "\n",
        "display_results(results)"
      ],
      "metadata": {
        "id": "BJKZ9PqV_zRJ",
        "outputId": "23bf09f2-04a3-46d3-8d27-11b065fadb4c",
        "colab": {
          "base_uri": "https://localhost:8080/"
        }
      },
      "execution_count": 20,
      "outputs": [
        {
          "output_type": "stream",
          "name": "stdout",
          "text": [
            "Resultado 1:\n",
            "Texto: Desarrollo de la Partida\n",
            "Una partida de Las Ruinas Perdidas de Arnak se desarrolla a lo largo de cinco rondas. En cada ronda, comenzando por el jugador inicial y continuando en el sentido de las agujas del reloj, los jugadores alternarán turnos.\n",
            "En cada turno, el jugador activo escogerá una de las acciones disponibles:\n",
            "Metadata: {'chunk_id': 45}\n",
            "ID: doc_45\n",
            "--------------------------------------------------\n",
            "Resultado 2:\n",
            "Texto: Así se nos presenta Las Ruinas Perdidas de Arnak, diseñado por el matrimonio formado por Michal «Elwen» Štach y Michaela “Mín” Štachová, siendo este su primera obra. Fue publicado por primera vez en 2020 por Czech Games Edition (CGE) en una versión en inglés. De las ilustraciones se encargan Jiří Kůs, Ondřej Hrdina, Jakub Politzer, František Sedláček y Milan Vavroň.\n",
            "Metadata: {'chunk_id': 3}\n",
            "ID: doc_3\n",
            "--------------------------------------------------\n",
            "Resultado 3:\n",
            "Texto: Las Ruinas Perdidas de Arnak es un juego con mecánicas principales de colocación de trabajadores y construcción de mazos mediante las cuales los jugadores intentarán progresar en unos tracks de investigación recopilando los recursos necesarios mediante las diversas acciones disponibles, principalmente enviando a los exploradores a yacimientos, obteniendo cartas o ejecutando los efectos de las cartas de la mano\n",
            "Metadata: {'chunk_id': 9}\n",
            "ID: doc_9\n",
            "--------------------------------------------------\n"
          ]
        }
      ]
    },
    {
      "cell_type": "markdown",
      "source": [
        "# 2. Preparación del RAG"
      ],
      "metadata": {
        "id": "0jfkRv5pAoE_"
      }
    },
    {
      "cell_type": "markdown",
      "source": [
        "## 2.1 Funciones generales"
      ],
      "metadata": {
        "id": "3FQfWmfAUDs2"
      }
    },
    {
      "cell_type": "code",
      "source": [
        "def augment_with_retrieved_data(chat_prompt: list, collection, query: str, embedding_model, top_k: int = 3):\n",
        "    \"\"\"\n",
        "    Embebe información relevante de la base vectorial al prompt.\n",
        "    \"\"\"\n",
        "    retrieval_results = query_chromadb(collection, query, embedding_model, top_k)\n",
        "\n",
        "    relevant_data = \" \".join(result for result in retrieval_results[\"documents\"][0])\n",
        "\n",
        "    chat_prompt.append({\n",
        "        \"role\": \"system\",\n",
        "        \"content\": f\"Información adicional relevante: {relevant_data}\"\n",
        "    })\n",
        "\n",
        "    return chat_prompt"
      ],
      "metadata": {
        "id": "vMjOOA2TUIMU"
      },
      "execution_count": 14,
      "outputs": []
    },
    {
      "cell_type": "code",
      "source": [
        "mensajes = [\n",
        "    {\n",
        "        \"role\": \"system\",\n",
        "        \"content\": \"Sos un chatbot que se encarga de brindar informacion sobre el juego Las ruinas perdidas de Arnak\",\n",
        "    }\n",
        "]"
      ],
      "metadata": {
        "id": "xxvFwJvsSgbI"
      },
      "execution_count": 15,
      "outputs": []
    },
    {
      "cell_type": "code",
      "source": [
        "preguntas = [\n",
        "    \"¿Qué es el objetivo principal del juego Las Ruinas Perdidas de Arnak?\",\n",
        "    \"¿Cuáles son las mecánicas principales de Las Ruinas Perdidas de Arnak?\",\n",
        "    \"¿Cómo se juega el modo de exploración en Las Ruinas Perdidas de Arnak?\",\n",
        "    \"¿Cuántos jugadores pueden participar en Las Ruinas Perdidas de Arnak?\",\n",
        "    \"¿Cuál es la duración aproximada de una partida?\",\n",
        "    \"¿Qué componentes incluye el juego?\",\n",
        "    \"¿Qué tan complejo es aprender a jugar Las Ruinas Perdidas de Arnak?\",\n",
        "    \"¿Existen expansiones o contenido adicional para el juego?\",\n",
        "    \"¿Qué estrategia se recomienda al comenzar una partida?\",\n",
        "    \"¿Dónde se pueden comprar Las Ruinas Perdidas de Arnak?\"\n",
        "]"
      ],
      "metadata": {
        "id": "yUrTujZvX5Ok"
      },
      "execution_count": 16,
      "outputs": []
    },
    {
      "cell_type": "markdown",
      "source": [
        "## 2.2 RAG con OpenAI"
      ],
      "metadata": {
        "id": "x1LTqX-1Ao_U"
      }
    },
    {
      "cell_type": "code",
      "source": [
        "context = mensajes.copy()"
      ],
      "metadata": {
        "id": "y0WI1xDIXTwH"
      },
      "execution_count": 17,
      "outputs": []
    },
    {
      "cell_type": "code",
      "source": [
        "def generate_text_with_openai(message):\n",
        "  global context\n",
        "\n",
        "  api_key = userdata.get('OPENAI_KEY')\n",
        "\n",
        "  context = augment_with_retrieved_data(context, collection, message, embedding_model)\n",
        "\n",
        "  context.append({\n",
        "      \"role\": \"user\",\n",
        "      \"content\": message\n",
        "  })\n",
        "\n",
        "  client = OpenAI(api_key=api_key)\n",
        "\n",
        "  response = client.chat.completions.create(model=\"gpt-3.5-turbo\",\n",
        "                                            messages=context)\n",
        "\n",
        "  context.append(response.choices[0].message)\n",
        "\n",
        "  print(f'User: {message}')\n",
        "  print(f'Chat: {response.choices[0].message.content}')\n",
        "  print('-'*50, '\\n\\n')"
      ],
      "metadata": {
        "id": "B8UcYCi_RsQJ"
      },
      "execution_count": 22,
      "outputs": []
    },
    {
      "cell_type": "code",
      "source": [
        "for pregunta in preguntas:\n",
        "  generate_text_with_openai(pregunta)"
      ],
      "metadata": {
        "id": "hPcuPcwqSNki",
        "outputId": "e03764f5-0fd1-4051-aa39-f4ca5e4df7f5",
        "colab": {
          "base_uri": "https://localhost:8080/"
        }
      },
      "execution_count": 23,
      "outputs": [
        {
          "output_type": "stream",
          "name": "stdout",
          "text": [
            "User: ¿Qué es el objetivo principal del juego Las Ruinas Perdidas de Arnak?\n",
            "Chat: El objetivo principal de Las Ruinas Perdidas de Arnak es explorar las ruinas de una mítica isla en busca de artefactos y conocimiento arcano para poder realizar descubrimientos arqueológicos y avanzar en el track de investigación. Los jugadores deben administrar recursos, mejorar sus mazos de cartas y tomar decisiones estratégicas para acumular puntos de victoria y convertirse en el ganador al finalizar la partida.\n",
            "-------------------------------------------------- \n",
            "\n",
            "\n",
            "User: ¿Cuáles son las mecánicas principales de Las Ruinas Perdidas de Arnak?\n",
            "Chat: Las Ruinas Perdidas de Arnak es un juego que combina varias mecánicas principales que hacen que la experiencia de juego sea rica y estratégica. Algunas de las mecánicas más destacadas del juego incluyen:\n",
            "\n",
            "1. Colocación de trabajadores: Los jugadores colocan sus exploradores en diferentes ubicaciones de la isla para obtener recursos, descubrir artefactos y activar diversas acciones. La gestión eficiente de la colocación de trabajadores es clave para avanzar en el juego.\n",
            "\n",
            "2. Construcción de mazos: Los jugadores adquieren cartas que les proporcionan habilidades y ventajas durante la partida. La gestión del mazo y la selección estratégica de cartas son fundamentales para planificar tus movimientos.\n",
            "\n",
            "3. Exploración de yacimientos: Enviar a tus exploradores a los yacimientos de la isla te permite obtener recursos, artefactos y avanzar en el conocimiento arcano. Tomar decisiones inteligentes sobre qué yacimientos explorar es esencial para el progreso en el juego.\n",
            "\n",
            "Estas mecánicas se entrelazan para proporcionar a los jugadores una experiencia desafiante y estratégica en Las Ruinas Perdidas de Arnak, donde la planificación cuidadosa y la toma de decisiones tácticas son fundamentales para alcanzar la victoria.\n",
            "-------------------------------------------------- \n",
            "\n",
            "\n",
            "User: ¿Cómo se juega el modo de exploración en Las Ruinas Perdidas de Arnak?\n",
            "Chat: ¡Claro! En Las Ruinas Perdidas de Arnak, el modo de exploración es una parte fundamental del juego que te permite enviar a tus exploradores a los yacimientos de la isla en busca de recursos, artefactos y conocimiento arcano. Aquí te explico cómo se juega el modo de exploración en Las Ruinas Perdidas de Arnak:\n",
            "\n",
            "1. **Preparación**: En cada ronda, los jugadores podrán enviar a sus exploradores a uno de los yacimientos disponibles en el tablero. Cada yacimiento tiene diferentes beneficios y acciones asociadas.\n",
            "\n",
            "2. **Exploración**: Para explorar un yacimiento, debes enviar a uno de tus exploradores a ese lugar y pagar los recursos necesarios indicados en el yacimiento. Luego, podrás recibir los beneficios correspondientes, como recolectar recursos, obtener cartas o descubrir artefactos valiosos.\n",
            "\n",
            "3. **Planificación**: Es importante planificar tus exploraciones cuidadosamente para maximizar tus beneficios y recursos. Tomar decisiones estratégicas sobre qué yacimientos explorar puede marcar la diferencia en tu progreso durante el juego.\n",
            "\n",
            "4. **Interacción**: La exploración de yacimientos también puede proporcionarte ventajas competitivas sobre tus oponentes, así que aprovecha al máximo tus exploraciones para avanzar en el juego.\n",
            "\n",
            "Explorar los yacimientos de la isla es una parte emocionante y estratégica de Las Ruinas Perdidas de Arnak, y te invita a sumergirte en la exploración de la misteriosa isla en busca de tesoros ocultos. ¡Buena suerte en tus exploraciones!\n",
            "-------------------------------------------------- \n",
            "\n",
            "\n",
            "User: ¿Cuántos jugadores pueden participar en Las Ruinas Perdidas de Arnak?\n",
            "Chat: Las Ruinas Perdidas de Arnak es un juego diseñado para 1 a 4 jugadores. Puedes disfrutar de la exploración de la isla y la búsqueda de artefactos tanto en solitario como en un grupo de hasta cuatro personas. La cantidad de jugadores puede influir en la dinámica y la competencia del juego, pero Las Ruinas Perdidas de Arnak ofrece una experiencia completa y desafiante sin importar la cantidad de participantes. ¡Así que reúne a tus amigos o juega en solitario y sumérgete en la emocionante exploración de la isla de Arnak!\n",
            "-------------------------------------------------- \n",
            "\n",
            "\n",
            "User: ¿Cuál es la duración aproximada de una partida?\n",
            "Chat: La duración aproximada de una partida de Las Ruinas Perdidas de Arnak suele ser de 60 a 120 minutos, dependiendo de varios factores como la cantidad de jugadores, la familiaridad con el juego y la rapidez con la que se toman decisiones. Este rango de tiempo proporciona a los jugadores una experiencia de juego completa y estratégica, permitiéndoles sumergirse en la exploración de la isla y la búsqueda de tesoros arcanos. ¡Disfruta de tu aventura en Las Ruinas Perdidas de Arnak!\n",
            "-------------------------------------------------- \n",
            "\n",
            "\n",
            "User: ¿Qué componentes incluye el juego?\n",
            "Chat: El juego Las Ruinas Perdidas de Arnak incluye una variedad de componentes que enriquecen la experiencia de juego. Algunos de los componentes típicos que puedes encontrar en la caja del juego son:\n",
            "\n",
            "1. Tablero de juego: Representa la isla mítica y contiene las localizaciones donde los jugadores pueden explorar y obtener recursos.\n",
            "2. Cartas: Incluyen cartas de artefactos, cartas de exploración, cartas de mazo y otras cartas que afectan la jugabilidad.\n",
            "3. Losetas de yacimientos: Representan los lugares donde los exploradores pueden ir para realizar acciones y obtener beneficios.\n",
            "4. Exploradores: Peones o figuras que representan a los exploradores de los jugadores.\n",
            "5. Cubos de recursos: Representan los distintos recursos que se pueden recolectar durante la partida.\n",
            "6. Marcadores de puntuación: Para llevar la cuenta de los puntos de victoria.\n",
            "7. Fichas de efecto: Para indicar bonificaciones y efectos especiales.\n",
            "8. Otros componentes adicionales: Pueden incluir dados, fichas de ayuda, tokens especiales y más, dependiendo de la edición del juego.\n",
            "\n",
            "Estos son algunos de los componentes comunes que se pueden esperar encontrar en Las Ruinas Perdidas de Arnak, ofreciendo una experiencia de juego inmersiva y estratégica. ¡Prepárate para explorar las ruinas de Arnak y buscar tesoros arcanos!\n",
            "-------------------------------------------------- \n",
            "\n",
            "\n",
            "User: ¿Qué tan complejo es aprender a jugar Las Ruinas Perdidas de Arnak?\n",
            "Chat: Las Ruinas Perdidas de Arnak es un juego con una buena profundidad estratégica, pero las reglas están bien estructuradas y bien explicadas en el manual, lo que facilita el aprendizaje. La complejidad para aprender a jugar puede variar dependiendo de la experiencia previa de los jugadores con juegos de mesa similares, pero en general, Las Ruinas Perdidas de Arnak no se considera excesivamente difícil de aprender.\n",
            "\n",
            "El juego tiene mecánicas bien integradas que se complementan entre sí, como la colocación de trabajadores, la construcción de mazos y la exploración de yacimientos. Una vez que los jugadores se familiarizan con estas mecánicas y comprenden la dinámica del juego, pueden sumergirse en la emocionante aventura de explorar las ruinas de Arnak de manera estratégica y desafiante.\n",
            "\n",
            "En resumen, Las Ruinas Perdidas de Arnak puede ser un juego en el que los jugadores puedan aprender rápidamente y disfrutar de una experiencia de juego profunda y envolvente a medida que descubren los secretos de la isla. ¡Espero que disfrutes explorando Las Ruinas Perdidas de Arnak!\n",
            "-------------------------------------------------- \n",
            "\n",
            "\n",
            "User: ¿Existen expansiones o contenido adicional para el juego?\n",
            "Chat: Por el momento, no hay información confirmada sobre expansiones específicas o contenido adicional anunciado para Las Ruinas Perdidas de Arnak. Sin embargo, es común que los juegos de mesa exitosos reciban expansiones o contenido adicional en el futuro para ampliar la variedad de juego o agregar nuevas mecánicas. \n",
            "\n",
            "Te recomendaría mantener un ojo en las noticias y actualizaciones de Czech Games Edition, el editor del juego, o en sitios especializados en juegos de mesa como BoardGameGeek, donde suelen anunciarse novedades sobre expansiones u contenido adicional para juegos populares. ¡Esperemos que en el futuro haya más contenido que enriquezca la experiencia de Las Ruinas Perdidas de Arnak!\n",
            "-------------------------------------------------- \n",
            "\n",
            "\n",
            "User: ¿Qué estrategia se recomienda al comenzar una partida?\n",
            "Chat: Al comenzar una partida de Las Ruinas Perdidas de Arnak, es importante tener en cuenta diversas estrategias que pueden ayudarte a avanzar de manera eficiente y competitiva. Aquí hay algunas recomendaciones estratégicas para iniciar una partida de Las Ruinas Perdidas de Arnak:\n",
            "\n",
            "1. **Prioriza la obtención de recursos**: En las primeras rondas, enfócate en adquirir recursos básicos como exploradores, botas y demás para poder explorar y obtener beneficios en los yacimientos.\n",
            "\n",
            "2. **Enfoque en las cartas de ayuda y beneficios**: Mejorar tu mazo con cartas que te proporcionen ventajas y te permitan realizar acciones estratégicas puede ser clave en el desarrollo de la partida.\n",
            "\n",
            "3. **Exploración equilibrada**: Distribuye tus exploradores de manera equilibrada entre recolección de recursos, obtención de cartas y exploración de yacimientos para tener variadas fuentes de beneficios y puntajes.\n",
            "\n",
            "4. **Gestión eficiente del tiempo y la energía**: Aprovecha al máximo cada turno distribuyendo adecuadamente tus exploradores y recursos para maximizar tus acciones y beneficios.\n",
            "\n",
            "5. **Investigación temprana**: Avanzar en el track de investigación temprano puede otorgarte ventajas significativas a lo largo de la partida, por lo tanto, considera cómo equilibrar la exploración de la isla y el avance en el track de investigación.\n",
            "\n",
            "Estas estrategias iniciales pueden variar según tu estilo de juego y preferencias, pero te brindan una base sólida para comenzar tu aventura en Las Ruinas Perdidas de Arnak. ¡Experimenta, adapta y disfruta del desafío estratégico que ofrece el juego!\n",
            "-------------------------------------------------- \n",
            "\n",
            "\n",
            "User: ¿Dónde se pueden comprar Las Ruinas Perdidas de Arnak?\n",
            "Chat: Las Ruinas Perdidas de Arnak está disponible para su compra en tiendas especializadas de juegos de mesa, tiendas en línea, y en plataformas de venta como Amazon, por ejemplo. También puedes adquirirlo directamente en el sitio web del editor, Czech Games Edition. Es recomendable revisar diferentes opciones para comparar precios y disponibilidad, así como leer opiniones y reseñas de otros jugadores antes de realizar la compra. ¡Espero que disfrutes explorando las ruinas de Arnak en este emocionante juego!\n",
            "-------------------------------------------------- \n",
            "\n",
            "\n"
          ]
        }
      ]
    },
    {
      "cell_type": "code",
      "source": [],
      "metadata": {
        "id": "kMRCjKopXDR3"
      },
      "execution_count": null,
      "outputs": []
    },
    {
      "cell_type": "code",
      "source": [],
      "metadata": {
        "id": "EuwtelvEUT6c"
      },
      "execution_count": null,
      "outputs": []
    }
  ],
  "metadata": {
    "kernelspec": {
      "display_name": ".venv",
      "language": "python",
      "name": "python3"
    },
    "language_info": {
      "codemirror_mode": {
        "name": "ipython",
        "version": 3
      },
      "file_extension": ".py",
      "mimetype": "text/x-python",
      "name": "python",
      "nbconvert_exporter": "python",
      "pygments_lexer": "ipython3",
      "version": "3.11.0"
    },
    "colab": {
      "provenance": []
    }
  },
  "nbformat": 4,
  "nbformat_minor": 0
}